{
 "cells": [
  {
   "cell_type": "code",
   "execution_count": 1,
   "id": "shaped-graduate",
   "metadata": {},
   "outputs": [
    {
     "name": "stdout",
     "output_type": "stream",
     "text": [
      "Enter a positive integer value: -9\n",
      "Your number must be a positive integer. Please try again.\n",
      "\n",
      "\n",
      "Enter a positive integer value: 2.6\n",
      "Error value\n",
      "Enter a positive integer value: 9\n",
      "Value Square Root\n",
      "9\t3.000\n"
     ]
    }
   ],
   "source": [
    " \n",
    "#ASk users to enter a positive and integer number\n",
    "#Use while statement to check validate the number\n",
    "num = -1\n",
    "while num < 1:\n",
    "    try:\n",
    "        num = int(input('Enter a positive integer value: '))\n",
    "        if num < 0:\n",
    "            print('Your number must be a positive integer. Please try again.')\n",
    "            print('\\n')\n",
    "    except:\n",
    "        print('Error value')\n",
    "    \n",
    "#estimate variable is the estimate value of the square root\n",
    "estimate = num\n",
    "\n",
    "difference = 1\n",
    "\n",
    "# We will get the estimate value until the differnce of num/estimate and estimate less than\n",
    "while difference > 0.0001:\n",
    "    if (num/estimate) >= estimate:\n",
    "        difference = (num/estimate) - estimate\n",
    "    else:\n",
    "        difference = estimate - (num/estimate)\n",
    "    estimate = ((num/estimate)+estimate)/2\n",
    "    \n",
    "#print the estimate value\n",
    "print('Value Square Root')\n",
    "print(num,'\\t', format(estimate,'.3f'),sep ='')\n"
   ]
  },
  {
   "cell_type": "code",
   "execution_count": null,
   "id": "weighted-committee",
   "metadata": {},
   "outputs": [],
   "source": []
  },
  {
   "cell_type": "code",
   "execution_count": null,
   "id": "stone-guinea",
   "metadata": {},
   "outputs": [],
   "source": []
  },
  {
   "cell_type": "code",
   "execution_count": null,
   "id": "sustained-process",
   "metadata": {},
   "outputs": [],
   "source": []
  }
 ],
 "metadata": {
  "kernelspec": {
   "display_name": "Python 3",
   "language": "python",
   "name": "python3"
  },
  "language_info": {
   "codemirror_mode": {
    "name": "ipython",
    "version": 3
   },
   "file_extension": ".py",
   "mimetype": "text/x-python",
   "name": "python",
   "nbconvert_exporter": "python",
   "pygments_lexer": "ipython3",
   "version": "3.9.1"
  }
 },
 "nbformat": 4,
 "nbformat_minor": 5
}
