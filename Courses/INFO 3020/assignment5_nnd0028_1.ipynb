{
 "cells": [
  {
   "cell_type": "code",
   "execution_count": 1,
   "id": "swiss-brazil",
   "metadata": {},
   "outputs": [],
   "source": [
    "def open_file():\n",
    "    file_name = None\n",
    "    while file_name == None:\n",
    "        \n",
    "        try:       \n",
    "            file_name = input('Please enter the name of the input data files: ')\n",
    "            file = open(file_name,'r')\n",
    "            file2 = open(file_name,'r')\n",
    "        except FileNotFoundError:\n",
    "            print('The file {file_name} could not be opened'.format(file_name = file_name))\n",
    "            file_name = None\n",
    "    return file, file2\n",
    "    "
   ]
  },
  {
   "cell_type": "code",
   "execution_count": 2,
   "id": "choice-egyptian",
   "metadata": {},
   "outputs": [],
   "source": [
    "def output_file(file,file2):\n",
    "    promt_user = input('Please enter the name of the output data file: ')\n",
    "    output = open(promt_user, 'w')\n",
    "    count_3_line = len(file2.readlines())/3\n",
    "    count_3_line = int(count_3_line)\n",
    "    for i in range(count_3_line):\n",
    "        count = 0\n",
    "        while count < 3:\n",
    "            line1 = file.readline().capitalize().strip('\\n')\n",
    "            output.writelines(line1 + '\\n')\n",
    "            count += 1\n",
    "            line2 = file.readline()\n",
    "            list_words = line2.split()\n",
    "            count_word = len(list_words)\n",
    "            output.writelines(str(count_word) + '\\n')\n",
    "            count += 1\n",
    "            line3 = int(file.readline())\n",
    "            if line3 == count_word:\n",
    "                output.writelines('True\\n')\n",
    "            else:\n",
    "                output.writelines('False\\n')\n",
    "            count += 1\n",
    "    return"
   ]
  },
  {
   "cell_type": "code",
   "execution_count": 3,
   "id": "perceived-amplifier",
   "metadata": {},
   "outputs": [],
   "source": [
    "def main():\n",
    "    file, file2 = open_file()\n",
    "    output_file(file, file2)\n",
    "    print('All data was seccessfully processed and saved to the requested output file.')"
   ]
  },
  {
   "cell_type": "code",
   "execution_count": 4,
   "id": "southern-minute",
   "metadata": {},
   "outputs": [
    {
     "name": "stdout",
     "output_type": "stream",
     "text": [
      "Please enter the name of the input data files: hobbies.txt\n",
      "The file hobbies.txt could not be opened\n",
      "Please enter the name of the input data files: /Users/ngocdao/hobbies.txt\n",
      "Please enter the name of the output data file: hobbies_output.txt\n",
      "All data was seccessfully processed and saved to the requested output file.\n"
     ]
    }
   ],
   "source": [
    "main()"
   ]
  },
  {
   "cell_type": "code",
   "execution_count": null,
   "id": "major-hands",
   "metadata": {},
   "outputs": [],
   "source": []
  }
 ],
 "metadata": {
  "kernelspec": {
   "display_name": "Python 3",
   "language": "python",
   "name": "python3"
  },
  "language_info": {
   "codemirror_mode": {
    "name": "ipython",
    "version": 3
   },
   "file_extension": ".py",
   "mimetype": "text/x-python",
   "name": "python",
   "nbconvert_exporter": "python",
   "pygments_lexer": "ipython3",
   "version": "3.9.1"
  }
 },
 "nbformat": 4,
 "nbformat_minor": 5
}
