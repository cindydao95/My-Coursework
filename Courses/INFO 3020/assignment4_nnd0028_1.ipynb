{
 "cells": [
  {
   "cell_type": "code",
   "execution_count": null,
   "id": "infinite-album",
   "metadata": {},
   "outputs": [],
   "source": [
    "import random as rd\n",
    "\n",
    "#funtion of getting player's card value\n",
    "def deal_card():\n",
    "    card_value = rd.randint(1,10)\n",
    "    return card_value\n",
    "\n",
    "#funtion of getting dealer's total value\n",
    "def get_dealer_score():\n",
    "    deal_value = rd.randint(16,21)\n",
    "    return deal_value\n",
    "\n",
    "#funtion of getting final player's score\n",
    "def get_player_score():\n",
    "    \n",
    "    card1 = deal_card()\n",
    "    card2 = deal_card()\n",
    "    two_card_sum = card1 + card2\n",
    "    print('Your hand of two cards has a total value of', two_card_sum)\n",
    "    \n",
    "    user_decision = input('Would you like to take another card? (y/n) ')\n",
    "    \n",
    "    while user_decision != 'y' and user_decision != 'n':\n",
    "        print('Invalid input. Enter Again')\n",
    "        user_decision = input('Would you like to take another card? (y/n) ')\n",
    "        \n",
    "    while user_decision == 'y':\n",
    "        two_card_sum += deal_card()\n",
    "        if two_card_sum > 21:\n",
    "            print('You BUSTED with a total value of', two_card_sum)\n",
    "            print('\\n')\n",
    "            print('** You lose! **')\n",
    "            print('\\n')\n",
    "            break\n",
    "        print('Your hand now has a total value of', two_card_sum)\n",
    "        user_decision = input('Would you like to take another card? (y/n) ')\n",
    "        while user_decision != 'y' and user_decision != 'n':\n",
    "            print('Invalid input. Enter Again')\n",
    "            user_decision = input('Would you like to take another card? (y/n) ')\n",
    "        \n",
    "        \n",
    "    if two_card_sum <= 21:\n",
    "        print('You have stopped taking more cards with a hand value of', two_card_sum)\n",
    "        dealer_value = get_dealer_score()\n",
    "        \n",
    "        if dealer_value > 21:\n",
    "            print('The dealer BUSTED with a value of', dealer_value)\n",
    "            print('\\n')\n",
    "            print('** You win! **')\n",
    "            print('\\n')\n",
    "            \n",
    "        elif dealer_value >= two_card_sum:\n",
    "            print('The dealer was dealt a hand with a value of', dealer_value)\n",
    "            print('\\n')\n",
    "            print('** You lose! **')\n",
    "            print('\\n')\n",
    "            \n",
    "        else:\n",
    "            print('The dealer was dealt a hand with a value of', dealer_value)\n",
    "            print('\\n')\n",
    "            print('** You win! **')\n",
    "            print('\\n')\n",
    "        \n",
    "    return two_card_sum\n",
    "\n",
    "def main():\n",
    "    user_promt = 'y'\n",
    "    while user_promt == 'y':\n",
    "        get_player_score()\n",
    "        user_promt = input('Would you like to play again? (y/n) ')\n",
    "\n",
    "      "
   ]
  },
  {
   "cell_type": "code",
   "execution_count": null,
   "id": "protected-seattle",
   "metadata": {},
   "outputs": [
    {
     "name": "stdout",
     "output_type": "stream",
     "text": [
      "Your hand of two cards has a total value of 15\n",
      "Would you like to take another card? (y/n) y\n",
      "Your hand now has a total value of 17\n",
      "Would you like to take another card? (y/n) j\n",
      "Invalid input. Enter Again\n",
      "Would you like to take another card? (y/n) y\n",
      "Your hand now has a total value of 19\n",
      "Would you like to take another card? (y/n) n\n",
      "You have stopped taking more cards with a hand value of 19\n",
      "The dealer was dealt a hand with a value of 18\n",
      "\n",
      "\n",
      "** You win! **\n",
      "\n",
      "\n"
     ]
    }
   ],
   "source": [
    "main()"
   ]
  },
  {
   "cell_type": "code",
   "execution_count": null,
   "id": "latest-portsmouth",
   "metadata": {},
   "outputs": [],
   "source": []
  },
  {
   "cell_type": "code",
   "execution_count": null,
   "id": "growing-murray",
   "metadata": {},
   "outputs": [],
   "source": []
  },
  {
   "cell_type": "code",
   "execution_count": null,
   "id": "precious-taylor",
   "metadata": {},
   "outputs": [],
   "source": []
  }
 ],
 "metadata": {
  "kernelspec": {
   "display_name": "Python 3",
   "language": "python",
   "name": "python3"
  },
  "language_info": {
   "codemirror_mode": {
    "name": "ipython",
    "version": 3
   },
   "file_extension": ".py",
   "mimetype": "text/x-python",
   "name": "python",
   "nbconvert_exporter": "python",
   "pygments_lexer": "ipython3",
   "version": "3.9.1"
  }
 },
 "nbformat": 4,
 "nbformat_minor": 5
}
