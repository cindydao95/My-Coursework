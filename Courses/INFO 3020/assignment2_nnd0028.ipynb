{
 "cells": [
  {
   "cell_type": "code",
   "execution_count": 2,
   "metadata": {},
   "outputs": [
    {
     "name": "stdout",
     "output_type": "stream",
     "text": [
      "Please enter initial of your investment:25000\n",
      "Please enter the interest rate (e.g., '.03' for 3% interest):0.04\n",
      "Please enter the number of years for the investment: 10\n",
      "Please enter the number of compoundings per year: 12\n",
      "Original Investment: $25,000.00\n",
      "Interest Earned:     $12,270.82\n",
      "Final Balance:       $37,270.82\n"
     ]
    }
   ],
   "source": [
    "#Ask users to input initial invest\n",
    "initial_invest = float(input('Please enter initial of your investment:'))\n",
    "\n",
    "#Ask users to input interest rate\n",
    "interest_rate = float(input(\"Please enter the interest rate (e.g., '.03' for 3% interest):\")) \n",
    "\n",
    "#Ask users to input number of years for investment\n",
    "n_years = float(input('Please enter the number of years for the investment: '))\n",
    "\n",
    "#Ask users to input number of coundings per year\n",
    "n_compound = float(input('Please enter the number of compoundings per year: '))\n",
    "\n",
    "#Calculate the final amount\n",
    "final_amount = initial_invest*(1+interest_rate/n_compound)**(n_compound*n_years)\n",
    "\n",
    "#Display original value\n",
    "print('Original Investment: $',format(initial_invest, ',.2f'), sep = '')\n",
    "\n",
    "#Display the interest value\n",
    "print('Interest Earned:     $', format((final_amount-initial_invest),',.2f'), sep = '')\n",
    "\n",
    "#Display the total value\n",
    "print('Final Balance:       $', format(final_amount, ',.2f'), sep = '')\n",
    "\n",
    "\n",
    "\n"
   ]
  }
 ],
 "metadata": {
  "kernelspec": {
   "display_name": "Python 3",
   "language": "python",
   "name": "python3"
  },
  "language_info": {
   "codemirror_mode": {
    "name": "ipython",
    "version": 3
   },
   "file_extension": ".py",
   "mimetype": "text/x-python",
   "name": "python",
   "nbconvert_exporter": "python",
   "pygments_lexer": "ipython3",
   "version": "3.9.1"
  }
 },
 "nbformat": 4,
 "nbformat_minor": 4
}
